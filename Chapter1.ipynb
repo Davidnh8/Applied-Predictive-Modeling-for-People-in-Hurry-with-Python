{
 "cells": [
  {
   "cell_type": "markdown",
   "metadata": {},
   "source": [
    "# Chapter 1 Introduction\n"
   ]
  },
  {
   "cell_type": "markdown",
   "metadata": {},
   "source": [
    "This chapter goes over fundamental definitions, terminologies, and the data set."
   ]
  },
  {
   "cell_type": "markdown",
   "metadata": {},
   "source": [
    "__Def 1__ Predictive modeling: the process of developing a mathematical tool or model that generates an accurate prediction\n",
    "\n",
    "Examples of types of questions one may use predictive modeling to predict are:  \n",
    "• How many copies will this book sell?  \n",
    "• Will this customer move their business to a different company?  \n",
    "• How much will my house sell for in the current market?  \n",
    "• Does a patient have a specific disease?  \n",
    "• Based on past choices, which movies will interest this viewer?  \n",
    "• Should I sell this stock?  \n",
    "• Which people should we match in our online dating service?  \n",
    "• Is an e-mail spam?  \n",
    "• Will this patient respond to this therapy?  "
   ]
  },
  {
   "cell_type": "markdown",
   "metadata": {},
   "source": [
    "## 1.1 Prediction Verses Interpretation"
   ]
  },
  {
   "cell_type": "markdown",
   "metadata": {},
   "source": [
    "Do not confuse Prediction and Interpretation. In the case of an email spam, Interpretation primarily asks the question why an email was regarded as spam. However, prediction does not care about why an email will be labeled as spam. It is only concerned about accurately discarding spam as spam and allow messages we value to pass through."
   ]
  },
  {
   "cell_type": "markdown",
   "metadata": {},
   "source": [
    "## 1.2 Key Ingredients of Predictive Models"
   ]
  },
  {
   "cell_type": "markdown",
   "metadata": {},
   "source": [
    "For a given data, the BEST predictive models are fundamentally influenced by a modeler with __expert knowledge__ and __context of the problem__. For example, if you are an excellent machine learning expert with no knowledge in the medical field, your model will be subpar to a model developed by another expert who is closely working with a doctor."
   ]
  },
  {
   "cell_type": "markdown",
   "metadata": {},
   "source": [
    "The main reason why the domain expertise is valulable is because while vast databases can serve as a platform for constructing predictions, irrelevant information can drive down predictive performances of many models. Subject specific domain knowledge helps in seperating meaningful information from the irrelevant information from the data, eliminating detrimental noise and strengtening the underlying signal."
   ]
  },
  {
   "cell_type": "markdown",
   "metadata": {},
   "source": [
    "__In the end, predictive modeling is not a substitute for intuition, but rather a complement.__"
   ]
  },
  {
   "cell_type": "markdown",
   "metadata": {},
   "source": [
    "## 1.3 Terminology"
   ]
  },
  {
   "cell_type": "markdown",
   "metadata": {},
   "source": [
    "There are many synonyms in the predictive modeling community that mean the same things:\n",
    "\n",
    "- Sample, data point, observation, or instance refer to a single independent unit of data (ex. customer, patient). BUT sample can also refer to a subset of data points (ex. training sample). It's up to the communicator to clearly indicate which.  \n",
    "- training set is the data used to develop models\n",
    "- test set or validation sets are used for evaluating the performance of a final set of candidate models.  \n",
    "- The predictors, independent variables, attributes, or discriptors are the data used to input for the prediction equation\n",
    "- Outcome, dependent variable, target, class, response refer to the outcome event or quantity that is being predicted.\n",
    "- Continuous data have natural, numeric scales (ex. Blood pressure, airplane altitute)\n",
    "- Categorial data, nomila, attribute, or discrete data take on specific values that have no scale (Good or bad credit score, stages of cancer.)\n",
    "- Model building, model training, parameter estimation refer to the process of using data to determine the value of model equations."
   ]
  },
  {
   "cell_type": "markdown",
   "metadata": {},
   "source": [
    "## 1.4 Example Data Sets and Typical Data Scenarios"
   ]
  },
  {
   "cell_type": "markdown",
   "metadata": {},
   "source": [
    "This section provides overview of diverse set of real world problems. The data provided by the author came in .RData format. I wrote convert_data.R script to convert them into .csv"
   ]
  },
  {
   "cell_type": "markdown",
   "metadata": {},
   "source": [
    "This section really is just overview and somewhat optional. If interested, I recommend reading the original text. Same goes for the rest of the chapter 1."
   ]
  },
  {
   "cell_type": "code",
   "execution_count": null,
   "metadata": {},
   "outputs": [],
   "source": []
  }
 ],
 "metadata": {
  "kernelspec": {
   "display_name": "Python 3",
   "language": "python",
   "name": "python3"
  },
  "language_info": {
   "codemirror_mode": {
    "name": "ipython",
    "version": 3
   },
   "file_extension": ".py",
   "mimetype": "text/x-python",
   "name": "python",
   "nbconvert_exporter": "python",
   "pygments_lexer": "ipython3",
   "version": "3.7.3"
  }
 },
 "nbformat": 4,
 "nbformat_minor": 2
}
